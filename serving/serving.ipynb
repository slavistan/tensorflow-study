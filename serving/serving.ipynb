{
 "cells": [
  {
   "cell_type": "markdown",
   "metadata": {
    "kernel": "python3.6"
   },
   "source": [
    "**Developed using**\n",
    "\n",
    "- Local [tensorflow_model_server][1] binary version 1.14 \n",
    "- Python 3.7.3\n",
    "  - tensorflow==1.14.0\n",
    "  - tensorflow-serving-api==1.14.0\n",
    "  - grpcio==1.24.0\n",
    "\n",
    "[1]: https://www.tensorflow.org/tfx/serving/setup"
   ]
  },
  {
   "cell_type": "markdown",
   "metadata": {
    "kernel": "python3.6"
   },
   "source": [
    "# Create a model - Launch an unsecured server - Get predictions using the REST and RPC APIs\n",
    "\n",
    "https://www.tensorflow.org/tfx/serving/api_rest"
   ]
  },
  {
   "cell_type": "markdown",
   "metadata": {
    "kernel": "SoS"
   },
   "source": [
    "## Create a model\n",
    "\n",
    "We create a simple model which implements an addition $(x_1, x_2) \\mapsto x_1 + x_2$"
   ]
  },
  {
   "cell_type": "code",
   "execution_count": null,
   "metadata": {
    "kernel": "python3.7"
   },
   "outputs": [],
   "source": [
    "%reset -f\n",
    "import tensorflow as tf\n",
    "import os\n",
    "\n",
    "# Running a model server requires an explicit model version, even if only a\n",
    "# single version is available. The version is encoded as subdirectories within\n",
    "# the model directory, such as `model/1/...` and `model/2/...`.\n",
    "# This code increments the version each time it's executed.\n",
    "model_root = \"./model/\"\n",
    "if not os.path.exists(model_root):\n",
    "    os.mkdir(\"./model/\")\n",
    "versions = [int(x) for x in [dirs for (r, dirs, f) in os.walk(model_root) if r==model_root][0]]\n",
    "if len(versions) == 0:\n",
    "    export_dir = model_root + \"1/\"\n",
    "else:\n",
    "    export_dir = model_root + str(max(versions) + 1) + \"/\"\n",
    "\n",
    "\n",
    "# Define a simple graph which doubles the input value. Use\n",
    "# placeholders for inputs, as it should be done. Variables are\n",
    "# used to represent trained parameters.\n",
    "tf.reset_default_graph()\n",
    "x1 = tf.placeholder(name=\"input_x1\", dtype=\"float\", shape=())\n",
    "x2 = tf.placeholder(name=\"input_x2\", dtype=\"float\", shape=())\n",
    "y = tf.add(x1, x2, name=\"output_y\")\n",
    "\n",
    "\n",
    "# A signature defines a model's inputs and outputs. The signature's names will\n",
    "# be used when passing input variables (not the names given to the tensors\n",
    "# during model construction).\n",
    "sig=tf.saved_model.signature_def_utils.predict_signature_def({\"sig_input_x1\": x1, \"sig_input_x2\": x2}, {\"sig_output_y\": y})\n",
    "with tf.Session() as sess:\n",
    "    tf.global_variables_initializer().run()\n",
    "    builder = tf.saved_model.builder.SavedModelBuilder(export_dir) # A `builder` class is used to save models.\n",
    "    builder.add_meta_graph_and_variables(sess,\n",
    "                                  [\"serve\"], # tags\n",
    "                                  signature_def_map={\"serving_default\": sig})\n",
    "builder.save()"
   ]
  },
  {
   "cell_type": "markdown",
   "metadata": {
    "kernel": "python3.6"
   },
   "source": [
    "## Start the model server\n",
    "\n",
    "Start the model server using `nohup` when inside the notebook."
   ]
  },
  {
   "cell_type": "code",
   "execution_count": null,
   "metadata": {
    "kernel": "bash"
   },
   "outputs": [],
   "source": [
    "model_dir=\"$(realpath ./model)\" # we need the full path\n",
    "model_name=\"addition\"\n",
    "nohup tensorflow_model_server \\\n",
    "  --port=8500                 \\\n",
    "  --rest_api_port=8501        \\\n",
    "  --model_name=addition       \\\n",
    "  --model_base_path=\"${model_dir}\" > /dev/null 2>&1 &"
   ]
  },
  {
   "cell_type": "markdown",
   "metadata": {
    "kernel": "bash"
   },
   "source": [
    "## Probe the model server for its metadata"
   ]
  },
  {
   "cell_type": "code",
   "execution_count": null,
   "metadata": {
    "kernel": "bash"
   },
   "outputs": [],
   "source": [
    "model_server_url=\"localhost:8501/v1/models/${model_name}\"\n",
    "curl --url \"${model_server_url}/metadata\""
   ]
  },
  {
   "cell_type": "markdown",
   "metadata": {
    "kernel": "bash"
   },
   "source": [
    "## Get a prediction using the REST api"
   ]
  },
  {
   "cell_type": "code",
   "execution_count": null,
   "metadata": {
    "kernel": "bash"
   },
   "outputs": [],
   "source": [
    "curl -s --url \"${model_server_url}:predict\" \\\n",
    "    --request \"POST\" \\\n",
    "    --data '{\"instances\": [{\"sig_input_x1\":[1, 2, 7],\"sig_input_x2\":[1, -4, 3.14]}]}'"
   ]
  },
  {
   "cell_type": "markdown",
   "metadata": {
    "kernel": "bash"
   },
   "source": [
    "## Get prediction using the gRPC api"
   ]
  },
  {
   "cell_type": "code",
   "execution_count": null,
   "metadata": {
    "kernel": "python3.7"
   },
   "outputs": [],
   "source": [
    "import grpc\n",
    "from tensorflow_serving.apis import prediction_service_pb2_grpc\n",
    "from tensorflow_serving.apis import predict_pb2\n",
    "\n",
    "# Configure the request, i.e. set up\n",
    "# - the model name\n",
    "# - the signature (which set of in- and outputs to choose)\n",
    "# - the input data\n",
    "request = predict_pb2.PredictRequest()\n",
    "request.model_spec.name = 'addition'\n",
    "request.model_spec.signature_name = 'serving_default'\n",
    "request.inputs['sig_input_x1'].CopyFrom(\n",
    "    tf.contrib.util.make_tensor_proto([1, 2], dtype=\"float\"))\n",
    "request.inputs['sig_input_x2'].CopyFrom(\n",
    "    tf.contrib.util.make_tensor_proto([1, 2], dtype=\"float\"))\n",
    "\n",
    "# Create the stub.\n",
    "# \"A stub in distributed computing is a piece of code that \n",
    "#  converts parameters passed between client and server during\n",
    "#  a remote procedure call.\"\"\n",
    "channel = grpc.insecure_channel(\"localhost:8500\")\n",
    "stub = prediction_service_pb2_grpc.PredictionServiceStub(channel)\n",
    "\n",
    "# Shoot. Pass an optional RPC timout.\n",
    "result=stub.Predict(request, 10)  # TODO: What's the timeout's unit? Seconds?\n",
    "print(result)"
   ]
  },
  {
   "cell_type": "code",
   "execution_count": null,
   "metadata": {
    "kernel": "python3.7"
   },
   "outputs": [],
   "source": [
    "# Select individual values\n",
    "print(result.outputs['sig_output_y'].float_val)"
   ]
  }
 ],
 "metadata": {
  "kernelspec": {
   "display_name": "SoS",
   "language": "sos",
   "name": "sos"
  },
  "language_info": {
   "codemirror_mode": "sos",
   "file_extension": ".sos",
   "mimetype": "text/x-sos",
   "name": "sos",
   "nbconvert_exporter": "sos_notebook.converter.SoS_Exporter",
   "pygments_lexer": "sos"
  },
  "sos": {
   "kernels": [
    [
     "bash",
     "bash",
     "bash",
     "",
     "shell"
    ],
    [
     "python3.7",
     "python3.7",
     "python",
     "",
     {
      "name": "ipython",
      "version": 3
     }
    ]
   ],
   "version": "0.20.5"
  }
 },
 "nbformat": 4,
 "nbformat_minor": 4
}
