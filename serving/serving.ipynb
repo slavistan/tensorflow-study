{
 "cells": [
  {
   "cell_type": "markdown",
   "metadata": {
    "kernel": "python3.6"
   },
   "source": [
    "# Start a model server and get a prediction\n",
    "\n",
    "https://www.tensorflow.org/tfx/serving/api_rest"
   ]
  },
  {
   "cell_type": "markdown",
   "metadata": {
    "kernel": "SoS"
   },
   "source": [
    "# Save a model"
   ]
  },
  {
   "cell_type": "code",
   "execution_count": null,
   "metadata": {
    "kernel": "python3.6"
   },
   "outputs": [],
   "source": [
    "import tensorflow as tf\n",
    "import os\n",
    "\n",
    "# Running a model server requires an explicit model version, even if only a\n",
    "# single version is available. The version is encoded as subdirectories within\n",
    "# the model directory, such as `model/1/...` and `model/2/...`.\n",
    "#\n",
    "# This code increments the version each time it's executed.\n",
    "model_root = \"./model/\"\n",
    "if not os.path.exists(model_root):\n",
    "    os.mkdir(\"./model/\")\n",
    "versions = [int(x) for x in [dirs for (r, dirs, f) in os.walk(model_root) if r==model_root][0]]\n",
    "if len(versions) == 0:\n",
    "    export_dir = model_root + \"1/\"\n",
    "else:\n",
    "    export_dir = model_root + str(max(versions) + 1) + \"/\"\n",
    "print(\"\\033[32;1m\" + \"Export dir: \" + \"\\033[0m\" + export_dir)\n",
    "\n",
    "# Reset everything so this cell can be re-run arbitrarily\n",
    "tf.reset_default_graph()# Reset tf graph\n",
    "\n",
    "    \n",
    "# Define a simple graph which doubles the input value. Use\n",
    "# placeholders for inputs, as it should be done. Variables are\n",
    "# used to represent trained parameters.\n",
    "tf.reset_default_graph()\n",
    "x1 = tf.placeholder(name=\"input_x1\", dtype=\"float\", shape=())\n",
    "x2 = tf.placeholder(name=\"input_x2\", dtype=\"float\", shape=())\n",
    "y = tf.add(x1, x2, name=\"output_y\")\n",
    "\n",
    "\n",
    "# A signature defines a model's inputs and outputs. The signature's names will\n",
    "# be used when passing input variables (not the names given to the tensors\n",
    "# during model construction).\n",
    "sig=tf.saved_model.signature_def_utils.predict_signature_def({\"sig_input_x1\": x1, \"sig_input_x2\": x2}, {\"sig_output_y\": y})\n",
    "with tf.Session() as sess:\n",
    "    tf.global_variables_initializer().run()\n",
    "    builder = tf.saved_model.builder.SavedModelBuilder(export_dir) # A `builder` class is used to save models.\n",
    "    builder.add_meta_graph_and_variables(sess,\n",
    "                                  [\"serve\"], # tags\n",
    "                                  signature_def_map={\"serving_default\": sig})\n",
    "builder.save() # actually save the model"
   ]
  },
  {
   "cell_type": "markdown",
   "metadata": {
    "kernel": "python3.6"
   },
   "source": [
    "## Start the model server\n",
    "\n",
    "Start the model server using `nohup` when inside the notebook."
   ]
  },
  {
   "cell_type": "code",
   "execution_count": null,
   "metadata": {
    "kernel": "bash"
   },
   "outputs": [],
   "source": [
    "MODEL_DIR=\"$(realpath ./model)\"\n",
    "MODEL_NAME=\"addition\"\n",
    "# TODO: Make nohup not create a nohup.log\n",
    "nohup tensorflow_model_server \\\n",
    "  --rest_api_port=8501        \\\n",
    "  --model_name=addition       \\\n",
    "  --model_base_path=\"${MODEL_DIR}\" > /dev/null 2>&1 &\n",
    "model_server_url=\"localhost:8501/v1/models/${MODEL_NAME}\""
   ]
  },
  {
   "cell_type": "markdown",
   "metadata": {
    "kernel": "bash"
   },
   "source": [
    "## Probe the model server for its metadata"
   ]
  },
  {
   "cell_type": "code",
   "execution_count": null,
   "metadata": {
    "kernel": "bash"
   },
   "outputs": [],
   "source": [
    "curl --url \"${model_server_url}/metadata\""
   ]
  },
  {
   "cell_type": "markdown",
   "metadata": {
    "kernel": "bash"
   },
   "source": [
    "## Get a prediction"
   ]
  },
  {
   "cell_type": "code",
   "execution_count": null,
   "metadata": {
    "kernel": "bash"
   },
   "outputs": [],
   "source": [
    "curl --url \"${model_server_url}:predict\" \\\n",
    "    --request \"POST\" \\\n",
    "    --data '{\"instances\": [{\"sig_input_x1\":[1, 2],\"sig_input_x2\":[1, 4]}]}'"
   ]
  }
 ],
 "metadata": {
  "kernelspec": {
   "display_name": "SoS",
   "language": "sos",
   "name": "sos"
  },
  "language_info": {
   "codemirror_mode": "sos",
   "file_extension": ".sos",
   "mimetype": "text/x-sos",
   "name": "sos",
   "nbconvert_exporter": "sos_notebook.converter.SoS_Exporter",
   "pygments_lexer": "sos"
  },
  "sos": {
   "kernels": [
    [
     "bash",
     "bash",
     "bash",
     "",
     "shell"
    ],
    [
     "python3.6",
     "python3.6",
     "python",
     "",
     {
      "name": "ipython",
      "version": 3
     }
    ]
   ],
   "version": "0.20.5"
  }
 },
 "nbformat": 4,
 "nbformat_minor": 4
}
