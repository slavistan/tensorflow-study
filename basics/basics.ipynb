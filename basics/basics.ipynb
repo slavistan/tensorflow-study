{
 "cells": [
  {
   "cell_type": "markdown",
   "metadata": {},
   "source": [
    "# Generate a graph, run and visualize it"
   ]
  },
  {
   "cell_type": "code",
   "execution_count": null,
   "metadata": {},
   "outputs": [],
   "source": [
    "# By convention tensorflow is always aliased as `tf`\n",
    "import tensorflow as tf\n",
    "\n",
    "\n",
    "# Construction phase: Build the graph by defining nodes.\n",
    "x1 = tf.Variable(3, name=\"x1\") # Define a leaf node\n",
    "x2 = tf.Variable(4, name=\"x2\") # The name is displayed during visualization\n",
    "y = x1+x2\n",
    "z = x1*y\n",
    "\n",
    "\n",
    "# Computation phase: Run the graph in a session\n",
    "with tf.Session() as sess:\n",
    "    tf.global_variables_initializer().run() # Variable initialization\n",
    "    print(\"y =\", y.eval()) # Isolated evaluation\n",
    "    print(\"[y, z] =\", sess.run([y, z])) # Optimized, combined evaluation\n",
    "    tf.summary.FileWriter(\"/tmp/tf/graph\", sess.graph) # Export graph information\n",
    "\n",
    "    \n",
    "# Executing the above code multiple times in a notebook will add distinct\n",
    "# nodes to the graph. Thus we reset the graph post-execution.\n",
    "tf.reset_default_graph()"
   ]
  },
  {
   "cell_type": "markdown",
   "metadata": {},
   "source": [
    "#### Initializing leaf nodes\n",
    "\n",
    "All nodes can be initialized collectively via a call to `tf.global_variables_initializer().run()` or, individually, using `sess.run(x1.initializer)`.\n",
    "\n",
    "#### Evaluating nodes\n",
    "\n",
    "Nodes are evaluated via `sess.run(y)` or, equivalently, `y.run()`. Each evaluation causes al dependent nodes to be evaluated from scratch - intermediate results are not cached. In order to reuse results from dependent nodes use `sess.run([y, z])`.\n",
    "\n",
    "#### Visualizing a graph\n",
    "\n",
    "Graph information is exported for visualization using `tf.summary.FileWriter(\"/path/to/graph\", sess.graph)`. Afterwards a tensorboard session can be invoked from a shell using `tensorboard --logdir=\"/path/to/graph\"` and opening the displayed URL in a browser. "
   ]
  },
  {
   "cell_type": "markdown",
   "metadata": {},
   "source": [
    "# Save and load models\n",
    "\n",
    "## Simple save and load"
   ]
  },
  {
   "cell_type": "code",
   "execution_count": 42,
   "metadata": {},
   "outputs": [
    {
     "name": "stdout",
     "output_type": "stream",
     "text": [
      "INFO:tensorflow:Assets added to graph.\n",
      "INFO:tensorflow:No assets to write.\n",
      "INFO:tensorflow:SavedModel written to: ./my_model/saved_model.pb\n"
     ]
    }
   ],
   "source": [
    "%reset -f\n",
    "import tensorflow as tf\n",
    "import os\n",
    "\n",
    "tf.reset_default_graph()\n",
    "\n",
    "x = tf.Variable(3.14, name=\"x\")\n",
    "y = 2 * x\n",
    "\n",
    "with tf.Session() as sess:\n",
    "    tf.global_variables_initializer().run()\n",
    "    tf.saved_model.simple_save(sess,\n",
    "                \"./my_model\",\n",
    "                inputs={\"x\": x},\n",
    "                outputs={\"y\": y})\n"
   ]
  },
  {
   "cell_type": "code",
   "execution_count": 45,
   "metadata": {},
   "outputs": [
    {
     "name": "stdout",
     "output_type": "stream",
     "text": [
      "INFO:tensorflow:Restoring parameters from ./my_model/variables/variables\n",
      "3.14\n"
     ]
    }
   ],
   "source": [
    "%reset -f\n",
    "import tensorflow as tf\n",
    "\n",
    "export_dir=\"./my_model\"\n",
    "with tf.Session() as sess:\n",
    "    graph = tf.get_default_graph()\n",
    "    tf.saved_model.loader.load(sess, [\"serve\"], export_dir)\n",
    "    x = graph.get_tensor_by_name(\"x:0\")\n",
    "    print(sess.run(x))"
   ]
  },
  {
   "cell_type": "code",
   "execution_count": 47,
   "metadata": {},
   "outputs": [
    {
     "name": "stdout",
     "output_type": "stream",
     "text": [
      "INFO:tensorflow:Assets added to graph.\n",
      "INFO:tensorflow:No assets to write.\n",
      "INFO:tensorflow:SavedModel written to: ./my_model/saved_model.pb\n",
      "INFO:tensorflow:Restoring parameters from ./my_model/variables/variables\n",
      "2.0\n"
     ]
    }
   ],
   "source": [
    "%reset -f\n",
    "import tensorflow as tf\n",
    "import os\n",
    "import shutil\n",
    "\n",
    "# Reset all nodes\n",
    "tf.reset_default_graph()\n",
    "\n",
    "x = tf.Variable(3.14, name=\"x\")\n",
    "y = 2 * x\n",
    "\n",
    "export_dir=\"./my_model\"\n",
    "if os.path.exists(export_dir):\n",
    "    shutil.rmtree(export_dir) \n",
    "    \n",
    "with tf.Session() as sess:\n",
    "    tf.global_variables_initializer().run()\n",
    "    tf.saved_model.simple_save(sess,\n",
    "                export_dir,\n",
    "                inputs={\"x\": x},\n",
    "                outputs={\"y\": 2 * x})\n",
    "\n",
    "%reset -f\n",
    "import tensorflow as tf\n",
    "\n",
    "export_dir=\"./my_model\"\n",
    "with tf.Session() as sess:\n",
    "    graph = tf.get_default_graph()\n",
    "    tf.saved_model.loader.load(sess, [\"serve\"], export_dir)\n",
    "    x = graph.get_tensor_by_name(\"x:0\")\n",
    "    print(sess.run(x, {x: 2}))"
   ]
  },
  {
   "cell_type": "code",
   "execution_count": 48,
   "metadata": {},
   "outputs": [
    {
     "name": "stdout",
     "output_type": "stream",
     "text": [
      "INFO:tensorflow:Assets added to graph.\n",
      "INFO:tensorflow:No assets to write.\n",
      "INFO:tensorflow:SavedModel written to: ./my_model/saved_model.pb\n",
      "INFO:tensorflow:Restoring parameters from ./my_model/variables/variables\n",
      "2.0\n"
     ]
    }
   ],
   "source": [
    "%reset -f\n",
    "import tensorflow as tf\n",
    "import os\n",
    "import shutil\n",
    "\n",
    "# Reset all nodes\n",
    "tf.reset_default_graph()\n",
    "\n",
    "x = tf.Variable(3.14, name=\"x\")\n",
    "y = 2 * x\n",
    "\n",
    "export_dir=\"./my_model\"\n",
    "if os.path.exists(export_dir):\n",
    "    shutil.rmtree(export_dir) \n",
    "    \n",
    "with tf.Session() as sess:\n",
    "    tf.global_variables_initializer().run()\n",
    "    tf.saved_model.simple_save(sess,\n",
    "                export_dir,\n",
    "                inputs={\"x\": x},\n",
    "                outputs={\"y\": 2 * x})\n",
    "\n",
    "%reset -f\n",
    "import tensorflow as tf\n",
    "\n",
    "export_dir=\"./my_model\"\n",
    "with tf.Session() as sess:\n",
    "    graph = tf.get_default_graph()\n",
    "    tf.saved_model.loader.load(sess, [\"serve\"], export_dir)\n",
    "    x = graph.get_tensor_by_name(\"x:0\")\n",
    "    print(sess.run(x, {x: 2}))"
   ]
  },
  {
   "cell_type": "code",
   "execution_count": null,
   "metadata": {},
   "outputs": [],
   "source": []
  }
 ],
 "metadata": {
  "kernelspec": {
   "display_name": "python3.6",
   "language": "python",
   "name": "python3.6"
  },
  "language_info": {
   "codemirror_mode": {
    "name": "ipython",
    "version": 3
   },
   "file_extension": ".py",
   "mimetype": "text/x-python",
   "name": "python",
   "nbconvert_exporter": "python",
   "pygments_lexer": "ipython3",
   "version": "3.6.9"
  }
 },
 "nbformat": 4,
 "nbformat_minor": 4
}
