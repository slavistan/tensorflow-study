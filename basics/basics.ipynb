{
 "cells": [
  {
   "cell_type": "markdown",
   "metadata": {},
   "source": [
    "### Generate a graph, run and visualize it"
   ]
  },
  {
   "cell_type": "code",
   "execution_count": 28,
   "metadata": {},
   "outputs": [
    {
     "name": "stdout",
     "output_type": "stream",
     "text": [
      "y = 7\n",
      "[y, z] = [7, 21]\n"
     ]
    }
   ],
   "source": [
    "# By convention tensorflow is always aliased as `tf`\n",
    "import tensorflow as tf\n",
    "\n",
    "\n",
    "# Construction phase: Build the graph by defining nodes.\n",
    "x1 = tf.Variable(3, name=\"x1\") # Define a leaf node\n",
    "x2 = tf.Variable(4, name=\"x2\") # The name is displayed during visualization\n",
    "y = x1+x2\n",
    "z = x1*y\n",
    "\n",
    "\n",
    "# Computation phase: Run the graph in a session\n",
    "with tf.Session() as sess:\n",
    "    tf.global_variables_initializer().run() # Variable initialization\n",
    "    print(\"y =\", y.eval()) # Isolated evaluation\n",
    "    print(\"[y, z] =\", sess.run([y, z])) # Optimized, combined evaluation\n",
    "    tf.summary.FileWriter(\"/tmp/tf/graph\", sess.graph) # Export graph information\n",
    "\n",
    "    \n",
    "# Executing the above code multiple times in a notebook will add distinct\n",
    "# nodes to the graph. Thus we reset the graph post-execution.\n",
    "tf.reset_default_graph()"
   ]
  },
  {
   "cell_type": "markdown",
   "metadata": {},
   "source": [
    "#### Initializing leaf nodes\n",
    "\n",
    "All nodes can be initialized collectively via a call to `tf.global_variables_initializer().run()` or, individually, using `sess.run(x1.initializer)`.\n",
    "\n",
    "#### Evaluating nodes\n",
    "\n",
    "Nodes are evaluated via `sess.run(y)` or, equivalently, `y.run()`. Each evaluation causes al dependent nodes to be evaluated from scratch - intermediate results are not cached. In order to reuse results from dependent nodes use `sess.run([y, z])`.\n",
    "\n",
    "#### Visualizing a graph\n",
    "\n",
    "Graph information is exported for visualization using `tf.summary.FileWriter(\"/path/to/graph\", sess.graph)`. Afterwards a tensorboard session can be invoked from a shell using `tensorboard --logdir=\"/path/to/graph\"` and opening the displayed URL in a browser. "
   ]
  }
 ],
 "metadata": {
  "kernelspec": {
   "display_name": "python3.6",
   "language": "python",
   "name": "python3.6"
  },
  "language_info": {
   "codemirror_mode": {
    "name": "ipython",
    "version": 3
   },
   "file_extension": ".py",
   "mimetype": "text/x-python",
   "name": "python",
   "nbconvert_exporter": "python",
   "pygments_lexer": "ipython3",
   "version": "3.6.9"
  }
 },
 "nbformat": 4,
 "nbformat_minor": 4
}
