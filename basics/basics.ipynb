{
 "cells": [
  {
   "cell_type": "code",
   "execution_count": null,
   "metadata": {
    "kernel": "python3.6"
   },
   "outputs": [],
   "source": [
    "# This notebook was tested with tf 1.11.0\n",
    "from importlib_metadata import version\n",
    "assert(version(\"tensorflow\") == \"1.11.0\")"
   ]
  },
  {
   "cell_type": "markdown",
   "metadata": {
    "kernel": "python3.6"
   },
   "source": [
    "# Generate a graph, run and visualize it"
   ]
  },
  {
   "cell_type": "code",
   "execution_count": null,
   "metadata": {
    "kernel": "python3.6"
   },
   "outputs": [],
   "source": [
    "# By convention tensorflow is always aliased as `tf`\n",
    "import tensorflow as tf\n",
    "\n",
    "\n",
    "# Construction phase: Build the graph by defining nodes.\n",
    "x1 = tf.Variable(3, name=\"x1\") # Define a leaf node\n",
    "x2 = tf.Variable(4, name=\"x2\") # The name is displayed during visualization\n",
    "y = x1+x2\n",
    "z = x1*y\n",
    "\n",
    "\n",
    "# Computation phase: Run the graph in a session\n",
    "with tf.Session() as sess:\n",
    "    tf.global_variables_initializer().run() # Variable initialization\n",
    "    print(\"y =\", y.eval()) # Isolated evaluation\n",
    "    print(\"[y, z] =\", sess.run([y, z])) # Optimized, combined evaluation\n",
    "    tf.summary.FileWriter(\"/tmp/tf/graph\", sess.graph) # Export graph information\n",
    "\n",
    "    \n",
    "# Executing the above code multiple times in a notebook will add distinct\n",
    "# nodes to the graph. Thus we reset the graph post-execution.\n",
    "tf.reset_default_graph()"
   ]
  },
  {
   "cell_type": "markdown",
   "metadata": {
    "kernel": "python3.6"
   },
   "source": [
    "#### Initializing leaf nodes\n",
    "\n",
    "All nodes can be initialized collectively via a call to `tf.global_variables_initializer().run()` or, individually, using `sess.run(x1.initializer)`.\n",
    "\n",
    "#### Evaluating nodes\n",
    "\n",
    "Nodes are evaluated via `sess.run(y)` or, equivalently, `y.run()`. Each evaluation causes al dependent nodes to be evaluated from scratch - intermediate results are not cached. In order to reuse results from dependent nodes use `sess.run([y, z])`.\n",
    "\n",
    "#### Visualizing a graph\n",
    "\n",
    "Graph information is exported for visualization using `tf.summary.FileWriter(\"/path/to/graph\", sess.graph)`. Afterwards a tensorboard session can be invoked from a shell using `tensorboard --logdir=\"/path/to/graph\"` and opening the displayed URL in a browser. "
   ]
  },
  {
   "cell_type": "markdown",
   "metadata": {
    "kernel": "python3.6"
   },
   "source": [
    "# Save and inspect models\n",
    "\n",
    "## Simple save and load"
   ]
  },
  {
   "cell_type": "code",
   "execution_count": null,
   "metadata": {
    "kernel": "python3.6"
   },
   "outputs": [],
   "source": [
    "import tensorflow as tf\n",
    "\n",
    "# Define a simple graph\n",
    "tf.reset_default_graph()\n",
    "x = tf.Variable(3.14, name=\"x\")\n",
    "y = 2 * x\n",
    "\n",
    "# Save the graph using the `simple_save` wrapper\n",
    "with tf.Session() as sess:\n",
    "    tf.global_variables_initializer().run()\n",
    "    tf.saved_model.simple_save(sess,\n",
    "                \"./simple_save_model\",\n",
    "                inputs={\"x\": x},\n",
    "                outputs={\"y\": y})\n"
   ]
  },
  {
   "cell_type": "markdown",
   "metadata": {
    "kernel": "python3.6"
   },
   "source": [
    "## Save using a `builder`"
   ]
  },
  {
   "cell_type": "code",
   "execution_count": null,
   "metadata": {
    "kernel": "python3.6"
   },
   "outputs": [],
   "source": [
    "import tensorflow as tf\n",
    "import os\n",
    "import shutil\n",
    "\n",
    "\n",
    "# Reset everything so this cell can be re-run arbitrarily\n",
    "tf.reset_default_graph()# Reset tf graph\n",
    "export_dir = \"./builder_model\" # delete the export directory\n",
    "if os.path.exists(export_dir):\n",
    "    shutil.rmtree(export_dir)\n",
    "\n",
    "    \n",
    "# Define a simple graph which doubles the input value. Use\n",
    "# placeholders for inputs, as it should be done. Variables are\n",
    "# used to represent trained parameters.\n",
    "tf.reset_default_graph()\n",
    "x1 = tf.placeholder(name=\"input_x1\", dtype=\"float\", shape=())\n",
    "x2 = tf.placeholder(name=\"input_x2\", dtype=\"float\", shape=())\n",
    "y = tf.add(x1, x2, name=\"output_y\")\n",
    "\n",
    "\n",
    "# A signature defines a model's inputs and outputs. The signature's names will\n",
    "# be used when passing input variables (not the names given to the tensors\n",
    "# during model construction).\n",
    "my_default_sig=tf.saved_model.signature_def_utils.predict_signature_def({\"sig_input_x1\": x1, \"sig_input_x2\": x2}, {\"sig_output_y\": y})\n",
    "\n",
    "\n",
    "with tf.Session() as sess:\n",
    "    tf.global_variables_initializer().run()\n",
    "    builder = tf.saved_model.builder.SavedModelBuilder(export_dir) # A `builder` class is used to save models.\n",
    "    builder.add_meta_graph_and_variables(sess,\n",
    "                                  [\"footag\"], # tags\n",
    "                                  signature_def_map={\"my_funny_sig\": my_default_sig})\n",
    "builder.save() # actually save the model"
   ]
  },
  {
   "cell_type": "markdown",
   "metadata": {
    "kernel": "python3.6"
   },
   "source": [
    "## Inspect a `SavedModel` via the **saved_model_cli**"
   ]
  },
  {
   "cell_type": "code",
   "execution_count": null,
   "metadata": {
    "kernel": "bash"
   },
   "outputs": [],
   "source": [
    "# List information about information\n",
    "saved_model_cli show --dir builder_model --all"
   ]
  },
  {
   "cell_type": "code",
   "execution_count": null,
   "metadata": {
    "kernel": "bash"
   },
   "outputs": [],
   "source": [
    "# Perform a computation. Our model adds the two inputs.\n",
    "x1=\"3.00\";x2=\"2.00\"\n",
    "saved_model_cli run --dir \"builder_model\" \\\n",
    "    --tag_set \"footag\" \\\n",
    "    --signature_def \"my_funny_sig\" \\\n",
    "    --input_exprs=\"sig_input_x1=$x1;sig_input_x2=$x2\""
   ]
  },
  {
   "cell_type": "code",
   "execution_count": null,
   "metadata": {
    "kernel": "bash"
   },
   "outputs": [],
   "source": [
    "saved_model_cli run --help"
   ]
  },
  {
   "cell_type": "markdown",
   "metadata": {
    "kernel": "bash"
   },
   "source": [
    "# Load a `SavedModel`"
   ]
  },
  {
   "cell_type": "code",
   "execution_count": null,
   "metadata": {
    "kernel": "python3.6"
   },
   "outputs": [],
   "source": [
    "%reset -f\n",
    "import tensorflow as tf\n",
    "tf.reset_default_graph()\n",
    "\n",
    "\n",
    "# Load the model and list the tensors' names we brought into scope. There\n",
    "# aren't any tf.Variables which need initialization, hence no global init.\n",
    "with tf.Session() as sess:\n",
    "    tf.saved_model.loader.load(sess, [\"footag\"], \"./builder_model\")\n",
    "    # We address tensors by name after loading a model\n",
    "    print(sess.run('output_y:0', feed_dict = {\"input_x1:0\": 3.14, \"input_x2:0\": 4.4}))\n",
    "    print(tf.get_default_graph().get_tensor_by_name(\"output_y:0\").eval(feed_dict={\"input_x1:0\": 1.5, \"input_x2:0\": 3}))"
   ]
  }
 ],
 "metadata": {
  "kernelspec": {
   "display_name": "SoS",
   "language": "sos",
   "name": "sos"
  },
  "language_info": {
   "codemirror_mode": "sos",
   "file_extension": ".sos",
   "mimetype": "text/x-sos",
   "name": "sos",
   "nbconvert_exporter": "sos_notebook.converter.SoS_Exporter",
   "pygments_lexer": "sos"
  },
  "sos": {
   "kernels": [
    [
     "bash",
     "bash",
     "bash",
     "",
     "shell"
    ],
    [
     "python3.6",
     "python3.6",
     "python",
     "",
     {
      "name": "ipython",
      "version": 3
     }
    ]
   ],
   "version": "0.20.5"
  }
 },
 "nbformat": 4,
 "nbformat_minor": 4
}
